{
 "cells": [
  {
   "cell_type": "markdown",
   "metadata": {},
   "source": [
    "## Task 1"
   ]
  },
  {
   "cell_type": "code",
   "execution_count": 4,
   "metadata": {},
   "outputs": [
    {
     "data": {
      "text/html": [
       "<div>\n",
       "<style scoped>\n",
       "    .dataframe tbody tr th:only-of-type {\n",
       "        vertical-align: middle;\n",
       "    }\n",
       "\n",
       "    .dataframe tbody tr th {\n",
       "        vertical-align: top;\n",
       "    }\n",
       "\n",
       "    .dataframe thead th {\n",
       "        text-align: right;\n",
       "    }\n",
       "</style>\n",
       "<table border=\"1\" class=\"dataframe\">\n",
       "  <thead>\n",
       "    <tr style=\"text-align: right;\">\n",
       "      <th></th>\n",
       "      <th>Rk</th>\n",
       "      <th>Player</th>\n",
       "      <th>Class</th>\n",
       "      <th>Pos</th>\n",
       "      <th>School</th>\n",
       "      <th>G</th>\n",
       "      <th>MP</th>\n",
       "      <th>TRB</th>\n",
       "      <th>AST</th>\n",
       "      <th>STL</th>\n",
       "      <th>...</th>\n",
       "      <th>TOV</th>\n",
       "      <th>PF</th>\n",
       "      <th>PTS</th>\n",
       "      <th>FG%</th>\n",
       "      <th>2P%</th>\n",
       "      <th>3P%</th>\n",
       "      <th>FT%</th>\n",
       "      <th>PER</th>\n",
       "      <th>WS</th>\n",
       "      <th>BPM</th>\n",
       "    </tr>\n",
       "  </thead>\n",
       "  <tbody>\n",
       "    <tr>\n",
       "      <th>0</th>\n",
       "      <td>1</td>\n",
       "      <td>Amaree Abram</td>\n",
       "      <td>SO</td>\n",
       "      <td>G</td>\n",
       "      <td>Georgia Tech</td>\n",
       "      <td>10</td>\n",
       "      <td>108</td>\n",
       "      <td>17</td>\n",
       "      <td>11</td>\n",
       "      <td>1</td>\n",
       "      <td>...</td>\n",
       "      <td>9</td>\n",
       "      <td>10</td>\n",
       "      <td>34</td>\n",
       "      <td>0.262</td>\n",
       "      <td>0.318</td>\n",
       "      <td>0.200</td>\n",
       "      <td>0.615</td>\n",
       "      <td>4.1</td>\n",
       "      <td>-0.1</td>\n",
       "      <td>-6.4</td>\n",
       "    </tr>\n",
       "    <tr>\n",
       "      <th>1</th>\n",
       "      <td>2</td>\n",
       "      <td>Sola Adebisi</td>\n",
       "      <td>FR</td>\n",
       "      <td>F</td>\n",
       "      <td>Florida State</td>\n",
       "      <td>7</td>\n",
       "      <td>9</td>\n",
       "      <td>1</td>\n",
       "      <td>1</td>\n",
       "      <td>0</td>\n",
       "      <td>...</td>\n",
       "      <td>1</td>\n",
       "      <td>1</td>\n",
       "      <td>2</td>\n",
       "      <td>0.500</td>\n",
       "      <td>0.500</td>\n",
       "      <td>NaN</td>\n",
       "      <td>NaN</td>\n",
       "      <td>3.5</td>\n",
       "      <td>0.0</td>\n",
       "      <td>-6.7</td>\n",
       "    </tr>\n",
       "    <tr>\n",
       "      <th>2</th>\n",
       "      <td>3</td>\n",
       "      <td>Prince Aligbe</td>\n",
       "      <td>SO</td>\n",
       "      <td>F</td>\n",
       "      <td>Boston College</td>\n",
       "      <td>35</td>\n",
       "      <td>651</td>\n",
       "      <td>119</td>\n",
       "      <td>21</td>\n",
       "      <td>15</td>\n",
       "      <td>...</td>\n",
       "      <td>30</td>\n",
       "      <td>51</td>\n",
       "      <td>164</td>\n",
       "      <td>0.435</td>\n",
       "      <td>0.522</td>\n",
       "      <td>0.147</td>\n",
       "      <td>0.620</td>\n",
       "      <td>9.4</td>\n",
       "      <td>0.9</td>\n",
       "      <td>-1.3</td>\n",
       "    </tr>\n",
       "    <tr>\n",
       "      <th>3</th>\n",
       "      <td>4</td>\n",
       "      <td>Abe Atiyeh</td>\n",
       "      <td>SR</td>\n",
       "      <td>G</td>\n",
       "      <td>Boston College</td>\n",
       "      <td>4</td>\n",
       "      <td>6</td>\n",
       "      <td>0</td>\n",
       "      <td>0</td>\n",
       "      <td>0</td>\n",
       "      <td>...</td>\n",
       "      <td>1</td>\n",
       "      <td>0</td>\n",
       "      <td>3</td>\n",
       "      <td>0.333</td>\n",
       "      <td>0.000</td>\n",
       "      <td>1.000</td>\n",
       "      <td>NaN</td>\n",
       "      <td>1.1</td>\n",
       "      <td>0.0</td>\n",
       "      <td>-8.2</td>\n",
       "    </tr>\n",
       "    <tr>\n",
       "      <th>4</th>\n",
       "      <td>5</td>\n",
       "      <td>Zack Austin</td>\n",
       "      <td>JR</td>\n",
       "      <td>F</td>\n",
       "      <td>Pittsburgh</td>\n",
       "      <td>33</td>\n",
       "      <td>746</td>\n",
       "      <td>137</td>\n",
       "      <td>29</td>\n",
       "      <td>32</td>\n",
       "      <td>...</td>\n",
       "      <td>13</td>\n",
       "      <td>35</td>\n",
       "      <td>216</td>\n",
       "      <td>0.417</td>\n",
       "      <td>0.563</td>\n",
       "      <td>0.295</td>\n",
       "      <td>0.737</td>\n",
       "      <td>18.0</td>\n",
       "      <td>2.9</td>\n",
       "      <td>7.9</td>\n",
       "    </tr>\n",
       "  </tbody>\n",
       "</table>\n",
       "<p>5 rows × 21 columns</p>\n",
       "</div>"
      ],
      "text/plain": [
       "   Rk         Player Class Pos          School   G   MP  TRB  AST  STL  ...  \\\n",
       "0   1   Amaree Abram    SO   G    Georgia Tech  10  108   17   11    1  ...   \n",
       "1   2   Sola Adebisi    FR   F   Florida State   7    9    1    1    0  ...   \n",
       "2   3  Prince Aligbe    SO   F  Boston College  35  651  119   21   15  ...   \n",
       "3   4     Abe Atiyeh    SR   G  Boston College   4    6    0    0    0  ...   \n",
       "4   5    Zack Austin    JR   F      Pittsburgh  33  746  137   29   32  ...   \n",
       "\n",
       "   TOV  PF  PTS    FG%    2P%    3P%    FT%   PER   WS  BPM  \n",
       "0    9  10   34  0.262  0.318  0.200  0.615   4.1 -0.1 -6.4  \n",
       "1    1   1    2  0.500  0.500    NaN    NaN   3.5  0.0 -6.7  \n",
       "2   30  51  164  0.435  0.522  0.147  0.620   9.4  0.9 -1.3  \n",
       "3    1   0    3  0.333  0.000  1.000    NaN   1.1  0.0 -8.2  \n",
       "4   13  35  216  0.417  0.563  0.295  0.737  18.0  2.9  7.9  \n",
       "\n",
       "[5 rows x 21 columns]"
      ]
     },
     "execution_count": 4,
     "metadata": {},
     "output_type": "execute_result"
    }
   ],
   "source": [
    "import pandas as pd\n",
    "\n",
    "file_path = 'data/acc_players-2324F.csv'\n",
    "df = pd.read_csv(file_path, header = 1)\n",
    "df.head()"
   ]
  },
  {
   "cell_type": "markdown",
   "metadata": {},
   "source": [
    "## Task 2"
   ]
  },
  {
   "cell_type": "code",
   "execution_count": 5,
   "metadata": {},
   "outputs": [
    {
     "data": {
      "text/plain": [
       "(38411,\n",
       " 'Casey Morsell',\n",
       "               Player  TRB\n",
       " 5      Armando Bacot  380\n",
       " 178  Ian Schieffelin  340\n",
       " 90   Harrison Ingram  327\n",
       " 44    Mohamed Diarra  311\n",
       " 149    Norchad Omier  309)"
      ]
     },
     "execution_count": 5,
     "metadata": {},
     "output_type": "execute_result"
    }
   ],
   "source": [
    "total_points = df['PTS'].sum()\n",
    "\n",
    "most_minutes_player = df.loc[df['MP'].idxmax()]\n",
    "\n",
    "top_5_rebounds = df[['Player', 'TRB']].sort_values(by='TRB', ascending=False).head(5)\n",
    "\n",
    "total_points, most_minutes_player['Player'], top_5_rebounds\n"
   ]
  },
  {
   "cell_type": "markdown",
   "metadata": {},
   "source": [
    "## Task 3"
   ]
  },
  {
   "cell_type": "code",
   "execution_count": 6,
   "metadata": {},
   "outputs": [
    {
     "data": {
      "text/plain": [
       "('Reece Beekman',\n",
       "              Player  AST\n",
       " 7     Reece Beekman  212\n",
       " 215  Jaeden Zackery  152\n",
       " 21    Elliot Cadeau  150,\n",
       "             Player  BLK\n",
       " 51       Ryan Dunn   77\n",
       " 157   Quinten Post   61\n",
       " 5    Armando Bacot   56)"
      ]
     },
     "execution_count": 6,
     "metadata": {},
     "output_type": "execute_result"
    }
   ],
   "source": [
    "filtered_df = df[df['MP'] > 500]\n",
    "\n",
    "most_assists_player = filtered_df.loc[filtered_df['AST'].idxmax()]\n",
    "\n",
    "top_3_assist_leads = filtered_df[['Player', 'AST']].sort_values(by='AST', ascending=False).head(3)\n",
    "\n",
    "top_3_shot_blockers = filtered_df[['Player', 'BLK']].sort_values(by='BLK', ascending=False).head(3)\n",
    "\n",
    "most_assists_player['Player'], top_3_assist_leads, top_3_shot_blockers\n"
   ]
  },
  {
   "cell_type": "markdown",
   "metadata": {},
   "source": [
    "## Task 4"
   ]
  },
  {
   "cell_type": "code",
   "execution_count": 9,
   "metadata": {},
   "outputs": [
    {
     "data": {
      "text/plain": [
       "(School\n",
       " Boston College    2667\n",
       " Clemson           2785\n",
       " Duke              2830\n",
       " Florida State     2526\n",
       " Georgia Tech      2272\n",
       " Louisville        2304\n",
       " Miami (FL)        2424\n",
       " NC State          3101\n",
       " North Carolina    3032\n",
       " Notre Dame        2113\n",
       " Pittsburgh        2495\n",
       " Syracuse          2442\n",
       " Virginia          2140\n",
       " Virginia Tech     2547\n",
       " Wake Forest       2733\n",
       " Name: PTS, dtype: int64,\n",
       " School\n",
       " Boston College    509\n",
       " Clemson           533\n",
       " Duke              551\n",
       " Florida State     406\n",
       " Georgia Tech      425\n",
       " Louisville        356\n",
       " Miami (FL)        454\n",
       " NC State          536\n",
       " North Carolina    536\n",
       " Notre Dame        335\n",
       " Pittsburgh        452\n",
       " Syracuse          442\n",
       " Virginia          509\n",
       " Virginia Tech     514\n",
       " Wake Forest       429\n",
       " Name: AST, dtype: int64,\n",
       " School\n",
       " NC State          3101\n",
       " North Carolina    3032\n",
       " Duke              2830\n",
       " Name: PTS, dtype: int64)"
      ]
     },
     "execution_count": 9,
     "metadata": {},
     "output_type": "execute_result"
    }
   ],
   "source": [
    "school_points = df.groupby('School')['PTS'].sum()\n",
    "\n",
    "school_assists = df.groupby('School')['AST'].sum()\n",
    "\n",
    "top_3_schools_by_points = school_points.sort_values(ascending=False).head(3)\n",
    "\n",
    "school_points, school_assists, top_3_schools_by_points\n"
   ]
  },
  {
   "cell_type": "markdown",
   "metadata": {},
   "source": [
    "## Task 5\n",
    "### Bar chart"
   ]
  },
  {
   "cell_type": "code",
   "execution_count": 10,
   "metadata": {},
   "outputs": [
    {
     "data": {
      "image/png": "[encoded data removed]",
      "text/plain": [
       "<Figure size 800x600 with 1 Axes>"
      ]
     },
     "metadata": {},
     "output_type": "display_data"
    }
   ],
   "source": [
    "import matplotlib.pyplot as plt\n",
    "\n",
    "top_5_players_by_pts = df[['Player', 'PTS']].sort_values(by='PTS', ascending=False).head(5)\n",
    "\n",
    "plt.figure(figsize=(8,6))\n",
    "plt.barh(top_5_players_by_pts['Player'], top_5_players_by_pts['PTS'], color='blue')\n",
    "plt.xlabel('Total Points (PTS)')\n",
    "plt.ylabel('Player')\n",
    "plt.title('Top 5 Players by Total Points Scored')\n",
    "plt.gca().invert_yaxis()  # Invert y-axis to show the highest value on top\n",
    "plt.show()\n"
   ]
  },
  {
   "cell_type": "markdown",
   "metadata": {},
   "source": [
    "### Correlation"
   ]
  },
  {
   "cell_type": "code",
   "execution_count": 11,
   "metadata": {},
   "outputs": [
    {
     "data": {
      "image/png": "[encoded data removed]",
      "text/plain": [
       "<Figure size 800x600 with 1 Axes>"
      ]
     },
     "metadata": {},
     "output_type": "display_data"
    },
    {
     "data": {
      "text/plain": [
       "0.4210663894199782"
      ]
     },
     "execution_count": 11,
     "metadata": {},
     "output_type": "execute_result"
    }
   ],
   "source": [
    "filtered_df_correlation = df[['FG%', 'WS']].dropna()\n",
    "\n",
    "correlation_coefficient = filtered_df_correlation.corr().loc['FG%', 'WS']\n",
    "\n",
    "plt.figure(figsize=(8,6))\n",
    "plt.scatter(filtered_df_correlation['FG%'], filtered_df_correlation['WS'], alpha=0.7, color='green')\n",
    "plt.xlabel('Field Goal Percentage (FG%)')\n",
    "plt.ylabel('Win Shares (WS)')\n",
    "plt.title('Correlation between FG% and WS')\n",
    "plt.show()\n",
    "\n",
    "correlation_coefficient\n"
   ]
  },
  {
   "cell_type": "markdown",
   "metadata": {},
   "source": [
    "## Reflection"
   ]
  },
  {
   "cell_type": "markdown",
   "metadata": {},
   "source": [
    "In this assignment, I enhanced my skills in working with CSV files and manipulating data using pandas DataFrames. I learned how to efficiently load and explore structured data, filter subsets based on specific criteria, and perform essential analyses like summing values and finding top performers. Techniques such as grouping data by categories (e.g., schools) and aggregating statistics allowed me to extract meaningful insights. Additionally, visualizing data with charts, like bar plots and scatter plots, helped present the results clearly. These skills will be highly applicable to future data analysis projects, especially when handling large datasets.\n",
    "\n",
    "The most challenging aspect of this assignment was understanding the structure of the data and ensuring accurate filtering for specific tasks. Since the CSV file had multiple columns and varying data types, it took some time to grasp the meaning of each column and how they related to the analyses. For instance, identifying the correct rows and ensuring the header row was properly accounted for required close attention to the dataset. I overcame this challenge by thoroughly examining the DataFrame's structure, checking for missing values, and validating my assumptions through small test cases. Additionally, using pandas' built-in functions like `groupby()` and `sort_values()` helped streamline the more complex tasks, allowing me to break down the challenges into manageable steps.\n",
    "\n",
    "The insights gained from analyzing ACC basketball statistics can easily be applied to other real-world datasets across various fields such as business, healthcare, and finance. In any dataset, core techniques like data cleaning, filtering, aggregation, and visual representation are essential for extracting actionable insights. For example, in healthcare, similar analyses can be used to identify top-performing treatments based on patient outcomes, while in business, it can help identify key performance drivers like sales or customer retention. This experience has prepared me to approach complex datasets methodically, break down the analysis into manageable parts, and use data-driven insights to inform decision-making in future data science challenges."
   ]
  },
  {
   "cell_type": "markdown",
   "metadata": {},
   "source": []
  }
 ],
 "metadata": {
  "kernelspec": {
   "display_name": "base",
   "language": "python",
   "name": "python3"
  },
  "language_info": {
   "codemirror_mode": {
    "name": "ipython",
    "version": 3
   },
   "file_extension": ".py",
   "mimetype": "text/x-python",
   "name": "python",
   "nbconvert_exporter": "python",
   "pygments_lexer": "ipython3",
   "version": "3.11.5"
  }
 },
 "nbformat": 4,
 "nbformat_minor": 2
}
