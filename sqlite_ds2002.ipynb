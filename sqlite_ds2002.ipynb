{
 "cells": [
  {
   "cell_type": "markdown",
   "id": "209c138b-520f-4a91-b7c7-3d5d0512a6a4",
   "metadata": {},
   "source": [
    "# **Part 1: Introduction to SQLite and Comparisons with Other RDBMS**\n",
    "\n",
    "## **1.1 What is SQLite?**\n",
    "\n",
    "SQLite is a relational database management system (RDBMS) that is embedded into the application that uses it. Unlike other databases, SQLite is serverless, meaning it doesn’t require a separate server process or a service. Instead, the database engine runs as part of the application itself. It is highly portable, making it ideal for applications where simplicity and portability are important.\n",
    "\n",
    "Some features of SQLite include:\n",
    "- **Lightweight and Compact**: The entire database is stored in a single cross-platform disk file.\n",
    "- **Zero Configuration**: It doesn’t need any configuration or setup to get started.\n",
    "- **Cross-Platform**: SQLite databases can be shared between systems with different architectures (e.g., Windows, Linux, macOS).\n",
    "\n",
    "## **1.2 Differences Between SQLite and Other RDBMS (MySQL, SQL Server)**\n",
    "\n",
    "Here is a comparison of SQLite with other popular RDBMS like MySQL and SQL Server:\n",
    "\n",
    "| Feature              | **SQLite**                               | **MySQL**                              | **SQL Server**                        |\n",
    "|----------------------|------------------------------------------|----------------------------------------|---------------------------------------|\n",
    "| **Architecture**      | Serverless, embedded within application  | Client-server model                    | Client-server model                   |\n",
    "| **Concurrency**       | Limited concurrency (single writer)      | Supports many simultaneous connections | Supports many simultaneous connections|\n",
    "| **Scalability**       | Not suited for large-scale applications  | Scalable for large apps                | Highly scalable                       |\n",
    "| **Setup**             | No setup required, built into the app    | Requires server installation           | Requires server installation          |\n",
    "| **Transactions**      | ACID compliant, but lacks fine-grained locking | Fully ACID compliant                   | Fully ACID compliant                  |\n",
    "| **Data Types**        | Dynamic typing                          | Static typing (specific data types)    | Static typing (specific data types)   |\n",
    "| **Storage**           | Single file database                    | Data stored across multiple files      | Data stored across multiple files     |\n",
    "| **Ideal Use Cases**   | Embedded systems, small apps, testing    | Web applications, moderate to large-scale applications | Enterprise-level, large applications  |\n",
    "\n",
    "### **Explanation of the Key Differences**:\n",
    "\n",
    "- **Architecture**: Unlike MySQL and SQL Server, which follow a client-server architecture where the database runs on a server and applications connect to it over a network, SQLite is serverless. The entire database is a single file, and it is embedded directly into the application.\n",
    "  \n",
    "- **Concurrency**: SQLite allows many simultaneous read operations but only one write operation at a time. In contrast, MySQL and SQL Server can handle many concurrent readers and writers, making them better suited for larger, high-traffic applications.\n",
    "  \n",
    "- **Scalability**: While SQLite can handle small to medium-sized applications, it is not ideal for large applications that require heavy concurrency, high availability, or enterprise-level features like replication and load balancing. MySQL and SQL Server, however, are designed to handle such workloads.\n",
    "\n",
    "- **Setup**: SQLite is extremely easy to set up because it doesn’t require any external server. It’s built into the application, so there's no need to install or configure anything. MySQL and SQL Server require server installations and configurations.\n",
    "\n",
    "- **Transactions and Data Integrity**: SQLite is ACID (Atomicity, Consistency, Isolation, Durability) compliant, ensuring data integrity during transactions, but lacks the fine-grained locking mechanisms that MySQL and SQL Server provide for handling highly concurrent writes.\n",
    "\n",
    "- **Data Types**: SQLite uses dynamic typing, which means that data types are not strictly enforced. For example, you could insert a string into an integer field. MySQL and SQL Server use static typing, ensuring that data stored in a column strictly adheres to the defined data type.\n",
    "\n",
    "## **1.3 Limitations of SQLite**\n",
    "\n",
    "While SQLite is powerful and easy to use, it has some key limitations when compared to other RDBMS:\n",
    "\n",
    "1. **Concurrency**: SQLite allows multiple readers but only one writer at a time. This limits its ability to scale to high-concurrency environments, such as web applications with many simultaneous writes.\n",
    "  \n",
    "2. **Size Limitations**: While SQLite databases can grow to be quite large (up to 281 terabytes), performance begins to degrade as the database grows beyond 1TB, making it unsuitable for very large datasets.\n",
    "  \n",
    "3. **No User Management**: Unlike MySQL or SQL Server, which allow you to define users and grant permissions, SQLite does not support user authentication or role-based access control. This makes it less secure in environments with multiple users.\n",
    "  \n",
    "4. **No Stored Procedures or Triggers**: SQLite does not have built-in support for stored procedures or triggers, features commonly used in enterprise databases for complex logic and automation.\n",
    "\n",
    "5. **Limited Data Integrity**: Because of dynamic typing, SQLite does not strictly enforce data types, which can lead to data integrity issues in certain use cases.\n",
    "\n",
    "## **1.4 What is SQLite Really Good For?**\n",
    "\n",
    "Despite its limitations, SQLite has several advantages that make it the right choice for many use cases:\n",
    "\n",
    "- **Mobile Applications**: SQLite is used extensively in mobile applications because it is small, fast, and can easily store local data. Both Android and iOS use SQLite as their default database engine.\n",
    "  \n",
    "- **Embedded Systems**: Devices like TVs, cars, cameras, and other electronics often use SQLite as a lightweight database system for configuration settings and local storage.\n",
    "  \n",
    "- **Testing and Development**: Developers frequently use SQLite as a testing or development database because it’s easy to set up and requires no external dependencies. It allows you to quickly create and manipulate databases without the overhead of a full RDBMS.\n",
    "  \n",
    "- **Browser Data Storage**: Browsers like Mozilla Firefox use SQLite to store local data (e.g., user preferences, history, and cookies). It’s also popular in desktop apps that require simple, local data storage without the complexity of managing a separate server.\n",
    "  \n",
    "- **Data Analysis**: SQLite can be used for small-scale data analysis, as it can store structured data in a simple, self-contained database file that can be queried without any complex setup.\n",
    "\n",
    "---\n",
    "\n",
    "Now that we have a better understanding of SQLite, let’s move on to  But Wait...what is ACID? We didn't talk much about that....creating and interacting with a real-world database example in Part 2!\n"
   ]
  },
  {
   "cell_type": "markdown",
   "id": "ea319368-a2dc-43e1-a7e5-6535e8f44124",
   "metadata": {},
   "source": [
    "# **ACID Properties in Databases**\n",
    "\n",
    "ACID is an acronym used to describe the four essential properties that ensure the reliability and integrity of a database system during a transaction. These properties are **Atomicity**, **Consistency**, **Isolation**, and **Durability**.\n",
    "\n",
    "## **1. Atomicity**\n",
    "\n",
    "Atomicity ensures that each transaction is treated as a single, indivisible unit of work. This means that either **all** operations within the transaction are executed successfully, or **none** of them are executed. In case of any error or failure during a transaction, the database must rollback to its previous state, ensuring that partial transactions don’t corrupt the database.\n",
    "\n",
    "- **Example**: If you're transferring money between two accounts, either both the debit and credit operations succeed, or neither happens. If only one operation occurs and the system crashes, the data would become inconsistent.\n",
    "\n",
    "## **2. Consistency**\n",
    "\n",
    "Consistency ensures that a transaction brings the database from one valid state to another, maintaining the predefined rules, constraints, and integrity of the data. After a transaction, the database must remain in a valid state, and any constraints such as primary keys, foreign keys, or unique constraints must still be satisfied.\n",
    "\n",
    "- **Example**: If a bank account's balance cannot go negative, a transaction that attempts to overdraw the account must be rejected. Even if multiple transactions are running, the rules of the system must be followed, ensuring that only valid data persists in the database.\n",
    "\n",
    "## **3. Isolation**\n",
    "\n",
    "Isolation guarantees that concurrent transactions occur independently without interfering with each other. Even if transactions are executed simultaneously, the final outcome should be as if they were executed sequentially. This prevents issues like \"dirty reads\" or \"lost updates,\" where one transaction could read or modify data being used by another transaction.\n",
    "\n",
    "There are multiple levels of isolation, ranging from:\n",
    "- **Read Uncommitted**: Lowest isolation level, allowing dirty reads.\n",
    "- **Serializable**: Highest isolation level, ensuring full isolation but may reduce concurrency.\n",
    "\n",
    "- **Example**: If two users are booking the last seat on a flight at the same time, isolation ensures that only one booking will succeed, preventing double booking.\n",
    "\n",
    "## **4. Durability**\n",
    "\n",
    "Durability guarantees that once a transaction is committed, the changes made by the transaction are permanent, even in the event of a system crash or power failure. The database must ensure that the data is saved to persistent storage (e.g., disk) and can be recovered after a system reboot or crash.\n",
    "\n",
    "- **Example**: If you submit an order on an e-commerce site and the transaction is committed, even if the system crashes immediately after, the order will still be saved and processed once the system is back online.\n",
    "\n",
    "---\n",
    "\n",
    "## **Conclusion**\n",
    "\n",
    "ACID properties are fundamental to ensuring data integrity, reliability, and robustness in a database system. They are especially important for databases that handle financial transactions, user data, and other mission-critical applications. By following the ACID properties, databases ensure that data remains accurate, consistent, and durable in the face of system failures, concurrent transactions, and unforeseen errors.\n"
   ]
  },
  {
   "cell_type": "markdown",
   "id": "ee1269c5-bac1-4362-a41d-da5d3e4be27c",
   "metadata": {},
   "source": [
    "# **Part 2: Setting Up SQLite for the Ice Cream Database**\n",
    "\n",
    "In this section, we'll cover how to set up an SQLite database for the ice cream shop, including creating connections, understanding cursors, and handling database files in both Jupyter notebooks and regular Python scripts.\n",
    "\n",
    "---\n",
    "\n",
    "## **Step 1: Creating a Connection to SQLite**\n",
    "\n",
    "In SQLite, the first thing you need to do is establish a **connection** to the database. The connection serves as the link between your Python code and the SQLite databas and connected!\")\n"
   ]
  },
  {
   "cell_type": "code",
   "execution_count": 1,
   "id": "14273944-131d-4495-bb83-e76d7441a090",
   "metadata": {},
   "outputs": [
    {
     "name": "stdout",
     "output_type": "stream",
     "text": [
      "Database created and connected!\n"
     ]
    }
   ],
   "source": [
    "import sqlite3\n",
    "\n",
    "# Create or connect to an SQLite database\n",
    "connection = sqlite3.connect('ice_cream_shop.db')\n",
    "\n",
    "# Check if the connection was successful\n",
    "print(\"Database created and connected!\")"
   ]
  },
  {
   "cell_type": "markdown",
   "id": "d52d8dd1-95a5-422c-8057-be50d267df2d",
   "metadata": {},
   "source": [
    "\n",
    "The sqlite3.connect() function creates a connection object representing the database.\n",
    "If the file ice_cream_shop.db already exists, SQLite will connect to it. If it doesn’t exist, SQLite will create a new file with that name in the working directory."
   ]
  },
  {
   "cell_type": "markdown",
   "id": "5d14236e-b842-42e3-aa3f-505b7d3b7d7c",
   "metadata": {},
   "source": [
    "## **Step 2: Understanding the Cursor**\n",
    "\n",
    "Once you've created a connection to the SQLite database, the next thing you'll need is a **cursor** object. The cursor allows you to execute SQL commands and interact with the database.\n",
    "\n"
   ]
  },
  {
   "cell_type": "code",
   "execution_count": 2,
   "id": "29599b78-8971-4bb0-b251-bcc4a883f35d",
   "metadata": {},
   "outputs": [
    {
     "name": "stdout",
     "output_type": "stream",
     "text": [
      "Cursor created!\n"
     ]
    }
   ],
   "source": [
    "# Create a cursor object\n",
    "cursor = connection.cursor()\n",
    "\n",
    "# Explanation\n",
    "print(\"Cursor created!\")"
   ]
  },
  {
   "cell_type": "markdown",
   "id": "57e3e90f-43f3-462c-b422-5e8de6b26084",
   "metadata": {},
   "source": [
    "**Explanation**:\n",
    "The cursor is like a controller that interacts with the database. It allows you to:\n",
    "Execute SQL queries (e.g., creating tables, inserting data, retrieving records).\n",
    "Fetch results from queries.\n",
    "Without a cursor, your Python code wouldn’t be able to send SQL commands to the database.\n",
    "After you’ve created the cursor, you can start executing SQL commands."
   ]
  },
  {
   "cell_type": "markdown",
   "id": "c3497b9c-5646-4faa-bab8-5ff6a383ddfd",
   "metadata": {},
   "source": [
    "**Why Do We Need a Cursor?**\n",
    "In SQLite (and other relational databases), the cursor acts as the intermediary between your Python code and the database. It runs SQL queries and fetches results. Think of it as a \"pointer\" that moves through the database.\n",
    "\n",
    "The cursor enables these important functions:\n",
    "\n",
    "- Executing SQL Statements: It allows you to execute SQL statements such as SELECT, INSERT, UPDATE, and DELETE.\n",
    "Fetching Results: \n",
    "- It retrieves the results from a SELECT query, allowing you to process the returned data in your Python code.\n",
    "You must create a cursor for each connection to the database"
   ]
  },
  {
   "cell_type": "markdown",
   "id": "5d1d2fc4-7b29-4dc7-894a-62a03bd2b446",
   "metadata": {},
   "source": [
    "**Example: Executing an SQL Query**\n",
    "Let’s use the cursor to create a table for our ice cream sales data:"
   ]
  },
  {
   "cell_type": "code",
   "execution_count": 3,
   "id": "64475ebc-d09d-42d7-b1d5-87f724d67cb4",
   "metadata": {},
   "outputs": [
    {
     "name": "stdout",
     "output_type": "stream",
     "text": [
      "Sales table created!\n"
     ]
    }
   ],
   "source": [
    "# Create the sales table\n",
    "cursor.execute('''\n",
    "CREATE TABLE IF NOT EXISTS sales (\n",
    "    id INTEGER PRIMARY KEY AUTOINCREMENT,\n",
    "    flavor TEXT NOT NULL,\n",
    "    sales INTEGER,\n",
    "    revenue INTEGER\n",
    ")\n",
    "''')\n",
    "\n",
    "print(\"Sales table created!\")\n"
   ]
  },
  {
   "cell_type": "markdown",
   "id": "b154032a-f7b3-4fd0-a3eb-82252622aa2b",
   "metadata": {},
   "source": [
    "**Explanation:**\n",
    "\n",
    "The SQL statement CREATE TABLE IF NOT EXISTS ensures that the table is only created if it doesn't already exist.\n",
    "The table sales includes four columns:\n",
    "- id: A unique identifier for each record, automatically incremented.\n",
    "- flavor: The flavor of the ice cream (a TEXT field).\n",
    "- sales: The number of ice creams sold.\n",
    "- revenue: The total revenue generated from each flavor.\n",
    "\n",
    "The cursor executes this command to create the sales table in the database.\n",
    "\n",
    "**What Happens If the Table Already Exists?**\n",
    "\n",
    "The **CREATE TABLE IF NOT EXISTS** statement ensures that the table will not be recreated if it already exists in the database. This is useful when you need to rerun your script or notebook without causing errors due to an existing table."
   ]
  },
  {
   "cell_type": "markdown",
   "id": "0c142f10-f212-432b-a91e-72123616f272",
   "metadata": {},
   "source": [
    "**Closing the Cursor**\n",
    "\n",
    "Once you’re done executing SQL commands, it’s a good practice to close the cursor."
   ]
  },
  {
   "cell_type": "code",
   "execution_count": 4,
   "id": "84ed0e4a-a864-4324-a3be-b4a3772132a8",
   "metadata": {},
   "outputs": [
    {
     "name": "stdout",
     "output_type": "stream",
     "text": [
      "Cursor closed!\n"
     ]
    }
   ],
   "source": [
    "# Close the cursor\n",
    "cursor.close()\n",
    "\n",
    "# Explanation\n",
    "print(\"Cursor closed!\")\n"
   ]
  },
  {
   "cell_type": "markdown",
   "id": "d5584e13-dbd6-437c-a75a-13791726122f",
   "metadata": {},
   "source": [
    "\n",
    "\n",
    "## **Step 3: Creating Tables for the Ice Cream Shop**\n",
    "\n",
    "Now that we have a connection and cursor, let’s create the necessary tables for storing ice cream sales data. This table will hold details like the flavor, number of sales, and revenue generated.\n",
    "\n",
    "\n"
   ]
  },
  {
   "cell_type": "code",
   "execution_count": 5,
   "id": "31cf0394-f14b-400a-aeb7-ea21bb2c9777",
   "metadata": {},
   "outputs": [
    {
     "name": "stdout",
     "output_type": "stream",
     "text": [
      "Cursor created!\n",
      "Sales table created!\n"
     ]
    }
   ],
   "source": [
    "# Create the sales table\n",
    "# Create a cursor object\n",
    "cursor = connection.cursor()\n",
    "\n",
    "# Explanation\n",
    "print(\"Cursor created!\")\n",
    "cursor.execute('''\n",
    "CREATE TABLE IF NOT EXISTS sales (\n",
    "    id INTEGER PRIMARY KEY AUTOINCREMENT,\n",
    "    flavor TEXT NOT NULL,\n",
    "    sales INTEGER,\n",
    "    revenue INTEGER\n",
    ")\n",
    "''')\n",
    "\n",
    "print(\"Sales table created!\")"
   ]
  },
  {
   "cell_type": "markdown",
   "id": "46b2cb56-eb28-42a3-a396-d4daf149cba1",
   "metadata": {},
   "source": [
    "\n",
    "\n",
    "Let’s create a new table called `flavor_details`, which will store additional information about each ice cream flavor.\n"
   ]
  },
  {
   "cell_type": "code",
   "execution_count": 6,
   "id": "739e0ba9-7f08-4920-9a7f-2a4b085efee6",
   "metadata": {},
   "outputs": [
    {
     "name": "stdout",
     "output_type": "stream",
     "text": [
      "Flavor details table created!\n"
     ]
    }
   ],
   "source": [
    "\n",
    "\n",
    "# Create the flavor_details table\n",
    "cursor.execute('''\n",
    "CREATE TABLE IF NOT EXISTS flavor_details (\n",
    "    flavor_id INTEGER PRIMARY KEY AUTOINCREMENT,\n",
    "    flavor TEXT NOT NULL,\n",
    "    category TEXT,\n",
    "    supplier TEXT\n",
    ")\n",
    "''')\n",
    "\n",
    "print(\"Flavor details table created!\")\n"
   ]
  },
  {
   "cell_type": "markdown",
   "id": "ebaf0ecd-2887-492e-83cb-3e60eb6878b0",
   "metadata": {},
   "source": [
    "Now let's do an insert"
   ]
  },
  {
   "cell_type": "code",
   "execution_count": 7,
   "id": "b9123be7-d6a3-4fc9-a51b-512ebcb2aa30",
   "metadata": {},
   "outputs": [
    {
     "name": "stdout",
     "output_type": "stream",
     "text": [
      "Data inserted into the sales table!\n"
     ]
    }
   ],
   "source": [
    "# Sample data to insert into the sales table\n",
    "sales_data = [\n",
    "    ('Vanilla', 100, 200),\n",
    "    ('Chocolate', 150, 300),\n",
    "    ('Strawberry', 80, 160),\n",
    "    ('Mint', 70, 140),\n",
    "    ('Cookie Dough', 120, 240)\n",
    "]\n",
    "\n",
    "# Insert data into the table\n",
    "cursor.executemany('''\n",
    "INSERT INTO sales (flavor, sales, revenue) VALUES (?, ?, ?)\n",
    "''', sales_data)\n",
    "\n",
    "# Commit the transaction\n",
    "connection.commit()\n",
    "\n",
    "print(\"Data inserted into the sales table!\")\n"
   ]
  },
  {
   "cell_type": "code",
   "execution_count": 8,
   "id": "7be11365-6670-4c43-9d3e-fe2951347433",
   "metadata": {},
   "outputs": [
    {
     "name": "stdout",
     "output_type": "stream",
     "text": [
      "Data inserted into the flavor details table!\n"
     ]
    }
   ],
   "source": [
    "# Sample data for the flavor_details table\n",
    "flavor_details_data = [\n",
    "    ('Vanilla', 'Classic', 'Supplier A'),\n",
    "    ('Chocolate', 'Classic', 'Supplier B'),\n",
    "    ('Strawberry', 'Premium', 'Supplier C'),\n",
    "    ('Mint', 'Classic', 'Supplier A'),\n",
    "    ('Cookie Dough', 'Premium', 'Supplier B')\n",
    "]\n",
    "\n",
    "# Insert data into the flavor_details table\n",
    "cursor.executemany('''\n",
    "INSERT INTO flavor_details (flavor, category, supplier) VALUES (?, ?, ?)\n",
    "''', flavor_details_data)\n",
    "\n",
    "# Commit the transaction\n",
    "connection.commit()\n",
    "\n",
    "print(\"Data inserted into the flavor details table!\")\n"
   ]
  },
  {
   "cell_type": "markdown",
   "id": "87c85991-14b3-415b-94c6-9bae9c9f8609",
   "metadata": {},
   "source": [
    "**Querying Data in SQLITE**"
   ]
  },
  {
   "cell_type": "markdown",
   "id": "2b4d4185-b06f-4a1f-8243-ff107a3ddd8c",
   "metadata": {},
   "source": [
    "## **Step 5: Querying the Data**\n",
    "\n",
    "Once the data is inserted into the `sales` table, we can execute various SQL queries to retrieve and analyze the information. Let’s go through a few examples of queries that provide useful insights.\n",
    "\n",
    "---\n",
    "\n",
    "### **1. Fetch All Data from the Sales Table**\n",
    "\n",
    "\n"
   ]
  },
  {
   "cell_type": "code",
   "execution_count": 9,
   "id": "eeb727b1-95df-4c5c-92d2-a4543947acf5",
   "metadata": {},
   "outputs": [
    {
     "name": "stdout",
     "output_type": "stream",
     "text": [
      "All sales data:\n",
      "('Vanilla', 100, 200)\n",
      "('Chocolate', 150, 300)\n",
      "('Strawberry', 80, 160)\n",
      "('Mint', 70, 140)\n",
      "('Cookie Dough', 120, 240)\n",
      "('Vanilla', 100, 200)\n",
      "('Chocolate', 150, 300)\n",
      "('Strawberry', 80, 160)\n",
      "('Mint', 70, 140)\n",
      "('Cookie Dough', 120, 240)\n",
      "('Vanilla', 100, 200)\n",
      "('Chocolate', 150, 300)\n",
      "('Strawberry', 80, 160)\n",
      "('Mint', 70, 140)\n",
      "('Cookie Dough', 120, 240)\n"
     ]
    }
   ],
   "source": [
    "\n",
    "# Fetch all data from the sales table\n",
    "cursor.execute(\"SELECT * FROM sales\")\n",
    "rows = cursor.fetchall()\n",
    "\n",
    "# Print the results\n",
    "print(\"All sales data:\")\n",
    "for row in rows:\n",
    "    print(row)"
   ]
  },
  {
   "cell_type": "code",
   "execution_count": 10,
   "id": "7571863a-8383-46f8-9826-800929cdb424",
   "metadata": {},
   "outputs": [
    {
     "name": "stdout",
     "output_type": "stream",
     "text": [
      "Flavor with the highest sales: Chocolate\n"
     ]
    }
   ],
   "source": [
    "# Query for the flavor with the highest sales\n",
    "cursor.execute('''\n",
    "SELECT flavor, MAX(sales) FROM sales\n",
    "''')\n",
    "highest_sales = cursor.fetchone()\n",
    "\n",
    "# Display the result\n",
    "print(f\"Flavor with the highest sales: {highest_sales[0]}\")\n"
   ]
  },
  {
   "cell_type": "markdown",
   "id": "1faf71d6-3b4e-4a79-9096-04858731f33e",
   "metadata": {},
   "source": [
    "- cursor.fetchall() fetches all the rows returned by the query, and we use a loop to print each row.\n",
    "\n",
    "- The MAX() function in SQL returns the maximum value in a column, which in this case is the highest number of sales.\n",
    "- We use cursor.fetchone() to retrieve the first (and only) result of this query, which gives us the flavor with the most sales.\n",
    "- This query identifies which ice cream flavor has the best performance in terms of sales.\n"
   ]
  },
  {
   "cell_type": "code",
   "execution_count": 11,
   "id": "a0a81174-d6f3-4294-b85e-6cc464bcdf4c",
   "metadata": {},
   "outputs": [
    {
     "name": "stdout",
     "output_type": "stream",
     "text": [
      "Total revenue: $3120\n"
     ]
    }
   ],
   "source": [
    "# Query for the total revenue\n",
    "cursor.execute('''\n",
    "SELECT SUM(revenue) FROM sales\n",
    "''')\n",
    "total_revenue = cursor.fetchone()[0]\n",
    "\n",
    "# Display the result\n",
    "print(f\"Total revenue: ${total_revenue}\")\n"
   ]
  },
  {
   "cell_type": "markdown",
   "id": "ff53ed06-498e-49b9-adea-4908ddfb6b38",
   "metadata": {},
   "source": [
    "- The SUM() function adds up all the values in the revenue column, calculating the total revenue generated by all flavors combined.\n",
    "- We use cursor.fetchone()[0] to get the total revenue since the query returns just one row with one column.\n",
    "- This query provides insight into how much money the ice cream shop has made from all its sales."
   ]
  },
  {
   "cell_type": "code",
   "execution_count": 12,
   "id": "36dce074-ae30-4730-bceb-34dedb0e0f76",
   "metadata": {},
   "outputs": [
    {
     "name": "stdout",
     "output_type": "stream",
     "text": [
      "Average revenue per flavor: $208.0\n"
     ]
    }
   ],
   "source": [
    "# Query for the average revenue per flavor\n",
    "cursor.execute('''\n",
    "SELECT AVG(revenue) FROM sales\n",
    "''')\n",
    "average_revenue = cursor.fetchone()[0]\n",
    "\n",
    "# Display the result\n",
    "print(f\"Average revenue per flavor: ${average_revenue}\")\n"
   ]
  },
  {
   "cell_type": "code",
   "execution_count": 13,
   "id": "e933725d-bb04-4c75-93db-a2a3b9761cde",
   "metadata": {},
   "outputs": [
    {
     "name": "stdout",
     "output_type": "stream",
     "text": [
      "Flavors sorted by sales:\n",
      "Chocolate: 150 sales\n",
      "Chocolate: 150 sales\n",
      "Chocolate: 150 sales\n",
      "Cookie Dough: 120 sales\n",
      "Cookie Dough: 120 sales\n",
      "Cookie Dough: 120 sales\n",
      "Vanilla: 100 sales\n",
      "Vanilla: 100 sales\n",
      "Vanilla: 100 sales\n",
      "Strawberry: 80 sales\n",
      "Strawberry: 80 sales\n",
      "Strawberry: 80 sales\n",
      "Mint: 70 sales\n",
      "Mint: 70 sales\n",
      "Mint: 70 sales\n"
     ]
    }
   ],
   "source": [
    "# Query to sort flavors by sales in descending order\n",
    "cursor.execute('''\n",
    "SELECT flavor, sales FROM sales ORDER BY sales DESC\n",
    "''')\n",
    "sorted_sales = cursor.fetchall()\n",
    "\n",
    "# Display the results\n",
    "print(\"Flavors sorted by sales:\")\n",
    "for sale in sorted_sales:\n",
    "    print(f\"{sale[0]}: {sale[1]} sales\")\n"
   ]
  },
  {
   "cell_type": "markdown",
   "id": "dce3de4c-8d51-4e7d-a5b6-94b1084d3782",
   "metadata": {},
   "source": [
    "\n",
    "---\n",
    "\n",
    "### **Summary of Step 5**:\n",
    "\n",
    "This step demonstrates how to:\n",
    "1. **Retrieve all data** from the `sales` table.\n",
    "2. **Find the flavor with the highest sales** using the `MAX()` function.\n",
    "3. **Calculate total revenue** using the `SUM()` function.\n",
    "4. **Find average revenue per flavor** using the `AVG()` function.\n",
    "5. **Sort flavors by sales** in descending order using `ORy anything!\n"
   ]
  },
  {
   "cell_type": "markdown",
   "id": "710945f1-957e-4fd7-971b-01f77ce2a274",
   "metadata": {},
   "source": [
    "# **Step 6: Performing JOIN Queries**\n",
    "\n",
    "In this section, we’ll perform SQL **JOIN** queries to combine data from the `sales` table and the `flavor_details` table. JOINs allow us to retrieve related data from multiple tables in a single query.\n",
    "\n",
    "---\n",
    "\n",
    "### **1. Join Sales and Flavor Details to Get Full Information**\n",
    "\n",
    "Let’s perform an **INNER JOIN** to combine the sales data with additional flavor details like category and supplier.\n",
    "\n",
    "\n"
   ]
  },
  {
   "cell_type": "code",
   "execution_count": 14,
   "id": "a1b04809-fc10-4b51-aa76-d168ca61f594",
   "metadata": {},
   "outputs": [
    {
     "name": "stdout",
     "output_type": "stream",
     "text": [
      "Joined sales and flavor details:\n",
      "('Vanilla', 100, 200, 'Classic', 'Supplier A')\n",
      "('Vanilla', 100, 200, 'Classic', 'Supplier A')\n",
      "('Chocolate', 150, 300, 'Classic', 'Supplier B')\n",
      "('Chocolate', 150, 300, 'Classic', 'Supplier B')\n",
      "('Strawberry', 80, 160, 'Premium', 'Supplier C')\n",
      "('Strawberry', 80, 160, 'Premium', 'Supplier C')\n",
      "('Mint', 70, 140, 'Classic', 'Supplier A')\n",
      "('Mint', 70, 140, 'Classic', 'Supplier A')\n",
      "('Cookie Dough', 120, 240, 'Premium', 'Supplier B')\n",
      "('Cookie Dough', 120, 240, 'Premium', 'Supplier B')\n",
      "('Vanilla', 100, 200, 'Classic', 'Supplier A')\n",
      "('Vanilla', 100, 200, 'Classic', 'Supplier A')\n",
      "('Chocolate', 150, 300, 'Classic', 'Supplier B')\n",
      "('Chocolate', 150, 300, 'Classic', 'Supplier B')\n",
      "('Strawberry', 80, 160, 'Premium', 'Supplier C')\n",
      "('Strawberry', 80, 160, 'Premium', 'Supplier C')\n",
      "('Mint', 70, 140, 'Classic', 'Supplier A')\n",
      "('Mint', 70, 140, 'Classic', 'Supplier A')\n",
      "('Cookie Dough', 120, 240, 'Premium', 'Supplier B')\n",
      "('Cookie Dough', 120, 240, 'Premium', 'Supplier B')\n",
      "('Vanilla', 100, 200, 'Classic', 'Supplier A')\n",
      "('Vanilla', 100, 200, 'Classic', 'Supplier A')\n",
      "('Chocolate', 150, 300, 'Classic', 'Supplier B')\n",
      "('Chocolate', 150, 300, 'Classic', 'Supplier B')\n",
      "('Strawberry', 80, 160, 'Premium', 'Supplier C')\n",
      "('Strawberry', 80, 160, 'Premium', 'Supplier C')\n",
      "('Mint', 70, 140, 'Classic', 'Supplier A')\n",
      "('Mint', 70, 140, 'Classic', 'Supplier A')\n",
      "('Cookie Dough', 120, 240, 'Premium', 'Supplier B')\n",
      "('Cookie Dough', 120, 240, 'Premium', 'Supplier B')\n"
     ]
    }
   ],
   "source": [
    "\n",
    "# Perform a JOIN query between sales and flavor_details\n",
    "cursor.execute('''\n",
    "SELECT sales.flavor, sales.sales, sales.revenue, flavor_details.category, flavor_details.supplier\n",
    "FROM sales\n",
    "JOIN flavor_details ON sales.flavor = flavor_details.flavor\n",
    "''')\n",
    "\n",
    "# Fetch and display the results\n",
    "joined_data = cursor.fetchall()\n",
    "\n",
    "print(\"Joined sales and flavor details:\")\n",
    "for row in joined_data:\n",
    "    print(row)\n",
    "    "
   ]
  },
  {
   "cell_type": "code",
   "execution_count": 15,
   "id": "6dc1bce1-aa17-4ec2-82ab-e6445b9ce775",
   "metadata": {},
   "outputs": [
    {
     "data": {
      "text/html": [
       "<div>\n",
       "<style scoped>\n",
       "    .dataframe tbody tr th:only-of-type {\n",
       "        vertical-align: middle;\n",
       "    }\n",
       "\n",
       "    .dataframe tbody tr th {\n",
       "        vertical-align: top;\n",
       "    }\n",
       "\n",
       "    .dataframe thead th {\n",
       "        text-align: right;\n",
       "    }\n",
       "</style>\n",
       "<table border=\"1\" class=\"dataframe\">\n",
       "  <thead>\n",
       "    <tr style=\"text-align: right;\">\n",
       "      <th></th>\n",
       "      <th>Flavor</th>\n",
       "      <th>Sales</th>\n",
       "      <th>Revenue</th>\n",
       "    </tr>\n",
       "  </thead>\n",
       "  <tbody>\n",
       "    <tr>\n",
       "      <th>0</th>\n",
       "      <td>Vanilla</td>\n",
       "      <td>100</td>\n",
       "      <td>200</td>\n",
       "    </tr>\n",
       "    <tr>\n",
       "      <th>1</th>\n",
       "      <td>Chocolate</td>\n",
       "      <td>150</td>\n",
       "      <td>300</td>\n",
       "    </tr>\n",
       "    <tr>\n",
       "      <th>2</th>\n",
       "      <td>Strawberry</td>\n",
       "      <td>80</td>\n",
       "      <td>160</td>\n",
       "    </tr>\n",
       "    <tr>\n",
       "      <th>3</th>\n",
       "      <td>Mint</td>\n",
       "      <td>70</td>\n",
       "      <td>140</td>\n",
       "    </tr>\n",
       "    <tr>\n",
       "      <th>4</th>\n",
       "      <td>Cookie Dough</td>\n",
       "      <td>120</td>\n",
       "      <td>240</td>\n",
       "    </tr>\n",
       "  </tbody>\n",
       "</table>\n",
       "</div>"
      ],
      "text/plain": [
       "         Flavor  Sales  Revenue\n",
       "0       Vanilla    100      200\n",
       "1     Chocolate    150      300\n",
       "2    Strawberry     80      160\n",
       "3          Mint     70      140\n",
       "4  Cookie Dough    120      240"
      ]
     },
     "execution_count": 15,
     "metadata": {},
     "output_type": "execute_result"
    }
   ],
   "source": [
    "import pandas as pd\n",
    "\n",
    "# Query the sales data into a DataFrame\n",
    "df = pd.read_sql_query('SELECT * FROM sales', connection)\n",
    "\n",
    "# Display the DataFrame\n",
    "df.head()\n"
   ]
  },
  {
   "cell_type": "code",
   "execution_count": 17,
   "id": "e5459e47-69d1-467c-881a-ccb45d114313",
   "metadata": {},
   "outputs": [
    {
     "ename": "KeyError",
     "evalue": "'flavor'",
     "output_type": "error",
     "traceback": [
      "\u001b[0;31m---------------------------------------------------------------------------\u001b[0m",
      "\u001b[0;31mKeyError\u001b[0m                                  Traceback (most recent call last)",
      "File \u001b[0;32m~/.local/lib/python3.10/site-packages/pandas/core/indexes/base.py:3805\u001b[0m, in \u001b[0;36mIndex.get_loc\u001b[0;34m(self, key)\u001b[0m\n\u001b[1;32m   3804\u001b[0m \u001b[38;5;28;01mtry\u001b[39;00m:\n\u001b[0;32m-> 3805\u001b[0m     \u001b[38;5;28;01mreturn\u001b[39;00m \u001b[38;5;28;43mself\u001b[39;49m\u001b[38;5;241;43m.\u001b[39;49m\u001b[43m_engine\u001b[49m\u001b[38;5;241;43m.\u001b[39;49m\u001b[43mget_loc\u001b[49m\u001b[43m(\u001b[49m\u001b[43mcasted_key\u001b[49m\u001b[43m)\u001b[49m\n\u001b[1;32m   3806\u001b[0m \u001b[38;5;28;01mexcept\u001b[39;00m \u001b[38;5;167;01mKeyError\u001b[39;00m \u001b[38;5;28;01mas\u001b[39;00m err:\n",
      "File \u001b[0;32mindex.pyx:167\u001b[0m, in \u001b[0;36mpandas._libs.index.IndexEngine.get_loc\u001b[0;34m()\u001b[0m\n",
      "File \u001b[0;32mindex.pyx:196\u001b[0m, in \u001b[0;36mpandas._libs.index.IndexEngine.get_loc\u001b[0;34m()\u001b[0m\n",
      "File \u001b[0;32mpandas/_libs/hashtable_class_helper.pxi:7081\u001b[0m, in \u001b[0;36mpandas._libs.hashtable.PyObjectHashTable.get_item\u001b[0;34m()\u001b[0m\n",
      "File \u001b[0;32mpandas/_libs/hashtable_class_helper.pxi:7089\u001b[0m, in \u001b[0;36mpandas._libs.hashtable.PyObjectHashTable.get_item\u001b[0;34m()\u001b[0m\n",
      "\u001b[0;31mKeyError\u001b[0m: 'flavor'",
      "\nThe above exception was the direct cause of the following exception:\n",
      "\u001b[0;31mKeyError\u001b[0m                                  Traceback (most recent call last)",
      "Cell \u001b[0;32mIn[17], line 5\u001b[0m\n\u001b[1;32m      3\u001b[0m \u001b[38;5;66;03m# Plot sales data\u001b[39;00m\n\u001b[1;32m      4\u001b[0m plt\u001b[38;5;241m.\u001b[39mfigure(figsize\u001b[38;5;241m=\u001b[39m(\u001b[38;5;241m10\u001b[39m,\u001b[38;5;241m6\u001b[39m))\n\u001b[0;32m----> 5\u001b[0m plt\u001b[38;5;241m.\u001b[39mbar(\u001b[43mdf\u001b[49m\u001b[43m[\u001b[49m\u001b[38;5;124;43m'\u001b[39;49m\u001b[38;5;124;43mflavor\u001b[39;49m\u001b[38;5;124;43m'\u001b[39;49m\u001b[43m]\u001b[49m, df[\u001b[38;5;124m'\u001b[39m\u001b[38;5;124msales\u001b[39m\u001b[38;5;124m'\u001b[39m], color\u001b[38;5;241m=\u001b[39m\u001b[38;5;124m'\u001b[39m\u001b[38;5;124mlightgreen\u001b[39m\u001b[38;5;124m'\u001b[39m)\n\u001b[1;32m      6\u001b[0m plt\u001b[38;5;241m.\u001b[39mxlabel(\u001b[38;5;124m'\u001b[39m\u001b[38;5;124mFlavor\u001b[39m\u001b[38;5;124m'\u001b[39m)\n\u001b[1;32m      7\u001b[0m plt\u001b[38;5;241m.\u001b[39mylabel(\u001b[38;5;124m'\u001b[39m\u001b[38;5;124mSales\u001b[39m\u001b[38;5;124m'\u001b[39m)\n",
      "File \u001b[0;32m~/.local/lib/python3.10/site-packages/pandas/core/frame.py:4102\u001b[0m, in \u001b[0;36mDataFrame.__getitem__\u001b[0;34m(self, key)\u001b[0m\n\u001b[1;32m   4100\u001b[0m \u001b[38;5;28;01mif\u001b[39;00m \u001b[38;5;28mself\u001b[39m\u001b[38;5;241m.\u001b[39mcolumns\u001b[38;5;241m.\u001b[39mnlevels \u001b[38;5;241m>\u001b[39m \u001b[38;5;241m1\u001b[39m:\n\u001b[1;32m   4101\u001b[0m     \u001b[38;5;28;01mreturn\u001b[39;00m \u001b[38;5;28mself\u001b[39m\u001b[38;5;241m.\u001b[39m_getitem_multilevel(key)\n\u001b[0;32m-> 4102\u001b[0m indexer \u001b[38;5;241m=\u001b[39m \u001b[38;5;28;43mself\u001b[39;49m\u001b[38;5;241;43m.\u001b[39;49m\u001b[43mcolumns\u001b[49m\u001b[38;5;241;43m.\u001b[39;49m\u001b[43mget_loc\u001b[49m\u001b[43m(\u001b[49m\u001b[43mkey\u001b[49m\u001b[43m)\u001b[49m\n\u001b[1;32m   4103\u001b[0m \u001b[38;5;28;01mif\u001b[39;00m is_integer(indexer):\n\u001b[1;32m   4104\u001b[0m     indexer \u001b[38;5;241m=\u001b[39m [indexer]\n",
      "File \u001b[0;32m~/.local/lib/python3.10/site-packages/pandas/core/indexes/base.py:3812\u001b[0m, in \u001b[0;36mIndex.get_loc\u001b[0;34m(self, key)\u001b[0m\n\u001b[1;32m   3807\u001b[0m     \u001b[38;5;28;01mif\u001b[39;00m \u001b[38;5;28misinstance\u001b[39m(casted_key, \u001b[38;5;28mslice\u001b[39m) \u001b[38;5;129;01mor\u001b[39;00m (\n\u001b[1;32m   3808\u001b[0m         \u001b[38;5;28misinstance\u001b[39m(casted_key, abc\u001b[38;5;241m.\u001b[39mIterable)\n\u001b[1;32m   3809\u001b[0m         \u001b[38;5;129;01mand\u001b[39;00m \u001b[38;5;28many\u001b[39m(\u001b[38;5;28misinstance\u001b[39m(x, \u001b[38;5;28mslice\u001b[39m) \u001b[38;5;28;01mfor\u001b[39;00m x \u001b[38;5;129;01min\u001b[39;00m casted_key)\n\u001b[1;32m   3810\u001b[0m     ):\n\u001b[1;32m   3811\u001b[0m         \u001b[38;5;28;01mraise\u001b[39;00m InvalidIndexError(key)\n\u001b[0;32m-> 3812\u001b[0m     \u001b[38;5;28;01mraise\u001b[39;00m \u001b[38;5;167;01mKeyError\u001b[39;00m(key) \u001b[38;5;28;01mfrom\u001b[39;00m \u001b[38;5;21;01merr\u001b[39;00m\n\u001b[1;32m   3813\u001b[0m \u001b[38;5;28;01mexcept\u001b[39;00m \u001b[38;5;167;01mTypeError\u001b[39;00m:\n\u001b[1;32m   3814\u001b[0m     \u001b[38;5;66;03m# If we have a listlike key, _check_indexing_error will raise\u001b[39;00m\n\u001b[1;32m   3815\u001b[0m     \u001b[38;5;66;03m#  InvalidIndexError. Otherwise we fall through and re-raise\u001b[39;00m\n\u001b[1;32m   3816\u001b[0m     \u001b[38;5;66;03m#  the TypeError.\u001b[39;00m\n\u001b[1;32m   3817\u001b[0m     \u001b[38;5;28mself\u001b[39m\u001b[38;5;241m.\u001b[39m_check_indexing_error(key)\n",
      "\u001b[0;31mKeyError\u001b[0m: 'flavor'"
     ]
    },
    {
     "data": {
      "text/plain": [
       "<Figure size 1000x600 with 0 Axes>"
      ]
     },
     "metadata": {},
     "output_type": "display_data"
    }
   ],
   "source": [
    "import matplotlib.pyplot as plt\n",
    "\n",
    "# Plot sales data\n",
    "plt.figure(figsize=(10,6))\n",
    "plt.bar(df['flavor'], df['sales'], color='lightgreen')\n",
    "plt.xlabel('Flavor')\n",
    "plt.ylabel('Sales')\n",
    "plt.title('Ice Cream Sales by Flavor')\n",
    "plt.show()\n",
    "\n",
    "# Plot revenue data\n",
    "plt.figure(figsize=(10,6))\n",
    "plt.bar(df['flavor'], df['revenue'], color='lightblue')\n",
    "plt.xlabel('Flavor')\n",
    "plt.ylabel('Revenue')\n",
    "plt.title('Ice Cream Revenue by Flavor')\n",
    "plt.show()\n"
   ]
  },
  {
   "cell_type": "markdown",
   "id": "3983b2f5-05d2-4158-87d6-d146c78d2a3d",
   "metadata": {},
   "source": [
    "# **Step 7: Emptying the Database and Loading Data from a CSV File**\n",
    "\n",
    "---\n",
    "\n",
    "## **1. Emptying the Existing Tables**"
   ]
  },
  {
   "cell_type": "code",
   "execution_count": 21,
   "id": "c46fc1ab-2d27-4311-85be-a3ada7afd79f",
   "metadata": {},
   "outputs": [
    {
     "name": "stdout",
     "output_type": "stream",
     "text": [
      "All data from sales and flavor_details tables has been deleted.\n"
     ]
    }
   ],
   "source": [
    "# Delete all data from the sales and flavor_details tables\n",
    "cursor.execute(\"DELETE FROM sales\")\n",
    "cursor.execute(\"DELETE FROM flavor_details\")\n",
    "connection.commit()\n",
    "\n",
    "print(\"All data from sales and flavor_details tables has been deleted.\")"
   ]
  },
  {
   "cell_type": "markdown",
   "id": "4d2e3786-3a31-4fd3-8c8d-b9d28f0254a5",
   "metadata": {},
   "source": [
    "**Loading Data from a CSV File into a Pandas DataFrame**\n",
    "\n",
    "Let’s assume we have a CSV file containing ice cream sales data. We'll load the data into a Pandas DataFrame and then insert it into the SQLite database."
   ]
  },
  {
   "cell_type": "code",
   "execution_count": 22,
   "id": "0696307a-ffe0-4f76-867c-6a7a5d59c253",
   "metadata": {},
   "outputs": [
    {
     "name": "stdout",
     "output_type": "stream",
     "text": [
      "         Flavor  Sales  Revenue\n",
      "0       Vanilla    100      200\n",
      "1     Chocolate    150      300\n",
      "2    Strawberry     80      160\n",
      "3          Mint     70      140\n",
      "4  Cookie Dough    120      240\n"
     ]
    }
   ],
   "source": [
    "import pandas as pd\n",
    "\n",
    "# Load data from CSV into a DataFrame\n",
    "df_sales = pd.read_csv('ice_cream_sales.csv')\n",
    "\n",
    "# Display the first few rows of the DataFrame\n",
    "print(df_sales.head())\n"
   ]
  },
  {
   "cell_type": "markdown",
   "id": "a0ff6470-dc60-4afc-9132-82d988dbf5fc",
   "metadata": {},
   "source": [
    "**Inserting Data from the DataFrame into the Database**\n",
    "Now that we have the data in a DataFrame, we can insert it into the SQLite database. We’ll use the to_sql() function from Pandas to insert the data directly.\n",
    "\n"
   ]
  },
  {
   "cell_type": "code",
   "execution_count": 23,
   "id": "3d13880d-35fe-41ed-bff7-72bf97269de1",
   "metadata": {},
   "outputs": [
    {
     "name": "stdout",
     "output_type": "stream",
     "text": [
      "Data from CSV has been inserted into the sales table.\n"
     ]
    }
   ],
   "source": [
    "# Insert data from the DataFrame into the sales table\n",
    "df_sales.to_sql('sales', connection, if_exists='replace', index=False)\n",
    "\n",
    "print(\"Data from CSV has been inserted into the sales table.\")\n"
   ]
  },
  {
   "cell_type": "code",
   "execution_count": 24,
   "id": "e6b7ebdd-3a4b-41c7-a38c-3c1f5cc7d7ff",
   "metadata": {},
   "outputs": [
    {
     "name": "stdout",
     "output_type": "stream",
     "text": [
      "All sales data:\n",
      "('Vanilla', 100, 200)\n",
      "('Chocolate', 150, 300)\n",
      "('Strawberry', 80, 160)\n",
      "('Mint', 70, 140)\n",
      "('Cookie Dough', 120, 240)\n"
     ]
    }
   ],
   "source": [
    "\n",
    "# Fetch all data from the sales table\n",
    "cursor.execute(\"SELECT * FROM sales\")\n",
    "rows = cursor.fetchall()\n",
    "\n",
    "# Print the results\n",
    "print(\"All sales data:\")\n",
    "for row in rows:\n",
    "    print(row) "
   ]
  },
  {
   "cell_type": "code",
   "execution_count": 25,
   "id": "d4d6035e-92c9-48e5-b687-d172db0a48a4",
   "metadata": {},
   "outputs": [
    {
     "ename": "FileNotFoundError",
     "evalue": "[Errno 2] No such file or directory: 'flavor_details.csv'",
     "output_type": "error",
     "traceback": [
      "\u001b[0;31m---------------------------------------------------------------------------\u001b[0m",
      "\u001b[0;31mFileNotFoundError\u001b[0m                         Traceback (most recent call last)",
      "Cell \u001b[0;32mIn[25], line 2\u001b[0m\n\u001b[1;32m      1\u001b[0m \u001b[38;5;66;03m# Load flavor details from another CSV file into a DataFrame\u001b[39;00m\n\u001b[0;32m----> 2\u001b[0m df_flavor_details \u001b[38;5;241m=\u001b[39m \u001b[43mpd\u001b[49m\u001b[38;5;241;43m.\u001b[39;49m\u001b[43mread_csv\u001b[49m\u001b[43m(\u001b[49m\u001b[38;5;124;43m'\u001b[39;49m\u001b[38;5;124;43mflavor_details.csv\u001b[39;49m\u001b[38;5;124;43m'\u001b[39;49m\u001b[43m)\u001b[49m\n\u001b[1;32m      4\u001b[0m \u001b[38;5;66;03m# Insert data from the DataFrame into the flavor_details table\u001b[39;00m\n\u001b[1;32m      5\u001b[0m df_flavor_details\u001b[38;5;241m.\u001b[39mto_sql(\u001b[38;5;124m'\u001b[39m\u001b[38;5;124mflavor_details\u001b[39m\u001b[38;5;124m'\u001b[39m, connection, if_exists\u001b[38;5;241m=\u001b[39m\u001b[38;5;124m'\u001b[39m\u001b[38;5;124mreplace\u001b[39m\u001b[38;5;124m'\u001b[39m, index\u001b[38;5;241m=\u001b[39m\u001b[38;5;28;01mFalse\u001b[39;00m)\n",
      "File \u001b[0;32m~/.local/lib/python3.10/site-packages/pandas/io/parsers/readers.py:1026\u001b[0m, in \u001b[0;36mread_csv\u001b[0;34m(filepath_or_buffer, sep, delimiter, header, names, index_col, usecols, dtype, engine, converters, true_values, false_values, skipinitialspace, skiprows, skipfooter, nrows, na_values, keep_default_na, na_filter, verbose, skip_blank_lines, parse_dates, infer_datetime_format, keep_date_col, date_parser, date_format, dayfirst, cache_dates, iterator, chunksize, compression, thousands, decimal, lineterminator, quotechar, quoting, doublequote, escapechar, comment, encoding, encoding_errors, dialect, on_bad_lines, delim_whitespace, low_memory, memory_map, float_precision, storage_options, dtype_backend)\u001b[0m\n\u001b[1;32m   1013\u001b[0m kwds_defaults \u001b[38;5;241m=\u001b[39m _refine_defaults_read(\n\u001b[1;32m   1014\u001b[0m     dialect,\n\u001b[1;32m   1015\u001b[0m     delimiter,\n\u001b[0;32m   (...)\u001b[0m\n\u001b[1;32m   1022\u001b[0m     dtype_backend\u001b[38;5;241m=\u001b[39mdtype_backend,\n\u001b[1;32m   1023\u001b[0m )\n\u001b[1;32m   1024\u001b[0m kwds\u001b[38;5;241m.\u001b[39mupdate(kwds_defaults)\n\u001b[0;32m-> 1026\u001b[0m \u001b[38;5;28;01mreturn\u001b[39;00m \u001b[43m_read\u001b[49m\u001b[43m(\u001b[49m\u001b[43mfilepath_or_buffer\u001b[49m\u001b[43m,\u001b[49m\u001b[43m \u001b[49m\u001b[43mkwds\u001b[49m\u001b[43m)\u001b[49m\n",
      "File \u001b[0;32m~/.local/lib/python3.10/site-packages/pandas/io/parsers/readers.py:620\u001b[0m, in \u001b[0;36m_read\u001b[0;34m(filepath_or_buffer, kwds)\u001b[0m\n\u001b[1;32m    617\u001b[0m _validate_names(kwds\u001b[38;5;241m.\u001b[39mget(\u001b[38;5;124m\"\u001b[39m\u001b[38;5;124mnames\u001b[39m\u001b[38;5;124m\"\u001b[39m, \u001b[38;5;28;01mNone\u001b[39;00m))\n\u001b[1;32m    619\u001b[0m \u001b[38;5;66;03m# Create the parser.\u001b[39;00m\n\u001b[0;32m--> 620\u001b[0m parser \u001b[38;5;241m=\u001b[39m \u001b[43mTextFileReader\u001b[49m\u001b[43m(\u001b[49m\u001b[43mfilepath_or_buffer\u001b[49m\u001b[43m,\u001b[49m\u001b[43m \u001b[49m\u001b[38;5;241;43m*\u001b[39;49m\u001b[38;5;241;43m*\u001b[39;49m\u001b[43mkwds\u001b[49m\u001b[43m)\u001b[49m\n\u001b[1;32m    622\u001b[0m \u001b[38;5;28;01mif\u001b[39;00m chunksize \u001b[38;5;129;01mor\u001b[39;00m iterator:\n\u001b[1;32m    623\u001b[0m     \u001b[38;5;28;01mreturn\u001b[39;00m parser\n",
      "File \u001b[0;32m~/.local/lib/python3.10/site-packages/pandas/io/parsers/readers.py:1620\u001b[0m, in \u001b[0;36mTextFileReader.__init__\u001b[0;34m(self, f, engine, **kwds)\u001b[0m\n\u001b[1;32m   1617\u001b[0m     \u001b[38;5;28mself\u001b[39m\u001b[38;5;241m.\u001b[39moptions[\u001b[38;5;124m\"\u001b[39m\u001b[38;5;124mhas_index_names\u001b[39m\u001b[38;5;124m\"\u001b[39m] \u001b[38;5;241m=\u001b[39m kwds[\u001b[38;5;124m\"\u001b[39m\u001b[38;5;124mhas_index_names\u001b[39m\u001b[38;5;124m\"\u001b[39m]\n\u001b[1;32m   1619\u001b[0m \u001b[38;5;28mself\u001b[39m\u001b[38;5;241m.\u001b[39mhandles: IOHandles \u001b[38;5;241m|\u001b[39m \u001b[38;5;28;01mNone\u001b[39;00m \u001b[38;5;241m=\u001b[39m \u001b[38;5;28;01mNone\u001b[39;00m\n\u001b[0;32m-> 1620\u001b[0m \u001b[38;5;28mself\u001b[39m\u001b[38;5;241m.\u001b[39m_engine \u001b[38;5;241m=\u001b[39m \u001b[38;5;28;43mself\u001b[39;49m\u001b[38;5;241;43m.\u001b[39;49m\u001b[43m_make_engine\u001b[49m\u001b[43m(\u001b[49m\u001b[43mf\u001b[49m\u001b[43m,\u001b[49m\u001b[43m \u001b[49m\u001b[38;5;28;43mself\u001b[39;49m\u001b[38;5;241;43m.\u001b[39;49m\u001b[43mengine\u001b[49m\u001b[43m)\u001b[49m\n",
      "File \u001b[0;32m~/.local/lib/python3.10/site-packages/pandas/io/parsers/readers.py:1880\u001b[0m, in \u001b[0;36mTextFileReader._make_engine\u001b[0;34m(self, f, engine)\u001b[0m\n\u001b[1;32m   1878\u001b[0m     \u001b[38;5;28;01mif\u001b[39;00m \u001b[38;5;124m\"\u001b[39m\u001b[38;5;124mb\u001b[39m\u001b[38;5;124m\"\u001b[39m \u001b[38;5;129;01mnot\u001b[39;00m \u001b[38;5;129;01min\u001b[39;00m mode:\n\u001b[1;32m   1879\u001b[0m         mode \u001b[38;5;241m+\u001b[39m\u001b[38;5;241m=\u001b[39m \u001b[38;5;124m\"\u001b[39m\u001b[38;5;124mb\u001b[39m\u001b[38;5;124m\"\u001b[39m\n\u001b[0;32m-> 1880\u001b[0m \u001b[38;5;28mself\u001b[39m\u001b[38;5;241m.\u001b[39mhandles \u001b[38;5;241m=\u001b[39m \u001b[43mget_handle\u001b[49m\u001b[43m(\u001b[49m\n\u001b[1;32m   1881\u001b[0m \u001b[43m    \u001b[49m\u001b[43mf\u001b[49m\u001b[43m,\u001b[49m\n\u001b[1;32m   1882\u001b[0m \u001b[43m    \u001b[49m\u001b[43mmode\u001b[49m\u001b[43m,\u001b[49m\n\u001b[1;32m   1883\u001b[0m \u001b[43m    \u001b[49m\u001b[43mencoding\u001b[49m\u001b[38;5;241;43m=\u001b[39;49m\u001b[38;5;28;43mself\u001b[39;49m\u001b[38;5;241;43m.\u001b[39;49m\u001b[43moptions\u001b[49m\u001b[38;5;241;43m.\u001b[39;49m\u001b[43mget\u001b[49m\u001b[43m(\u001b[49m\u001b[38;5;124;43m\"\u001b[39;49m\u001b[38;5;124;43mencoding\u001b[39;49m\u001b[38;5;124;43m\"\u001b[39;49m\u001b[43m,\u001b[49m\u001b[43m \u001b[49m\u001b[38;5;28;43;01mNone\u001b[39;49;00m\u001b[43m)\u001b[49m\u001b[43m,\u001b[49m\n\u001b[1;32m   1884\u001b[0m \u001b[43m    \u001b[49m\u001b[43mcompression\u001b[49m\u001b[38;5;241;43m=\u001b[39;49m\u001b[38;5;28;43mself\u001b[39;49m\u001b[38;5;241;43m.\u001b[39;49m\u001b[43moptions\u001b[49m\u001b[38;5;241;43m.\u001b[39;49m\u001b[43mget\u001b[49m\u001b[43m(\u001b[49m\u001b[38;5;124;43m\"\u001b[39;49m\u001b[38;5;124;43mcompression\u001b[39;49m\u001b[38;5;124;43m\"\u001b[39;49m\u001b[43m,\u001b[49m\u001b[43m \u001b[49m\u001b[38;5;28;43;01mNone\u001b[39;49;00m\u001b[43m)\u001b[49m\u001b[43m,\u001b[49m\n\u001b[1;32m   1885\u001b[0m \u001b[43m    \u001b[49m\u001b[43mmemory_map\u001b[49m\u001b[38;5;241;43m=\u001b[39;49m\u001b[38;5;28;43mself\u001b[39;49m\u001b[38;5;241;43m.\u001b[39;49m\u001b[43moptions\u001b[49m\u001b[38;5;241;43m.\u001b[39;49m\u001b[43mget\u001b[49m\u001b[43m(\u001b[49m\u001b[38;5;124;43m\"\u001b[39;49m\u001b[38;5;124;43mmemory_map\u001b[39;49m\u001b[38;5;124;43m\"\u001b[39;49m\u001b[43m,\u001b[49m\u001b[43m \u001b[49m\u001b[38;5;28;43;01mFalse\u001b[39;49;00m\u001b[43m)\u001b[49m\u001b[43m,\u001b[49m\n\u001b[1;32m   1886\u001b[0m \u001b[43m    \u001b[49m\u001b[43mis_text\u001b[49m\u001b[38;5;241;43m=\u001b[39;49m\u001b[43mis_text\u001b[49m\u001b[43m,\u001b[49m\n\u001b[1;32m   1887\u001b[0m \u001b[43m    \u001b[49m\u001b[43merrors\u001b[49m\u001b[38;5;241;43m=\u001b[39;49m\u001b[38;5;28;43mself\u001b[39;49m\u001b[38;5;241;43m.\u001b[39;49m\u001b[43moptions\u001b[49m\u001b[38;5;241;43m.\u001b[39;49m\u001b[43mget\u001b[49m\u001b[43m(\u001b[49m\u001b[38;5;124;43m\"\u001b[39;49m\u001b[38;5;124;43mencoding_errors\u001b[39;49m\u001b[38;5;124;43m\"\u001b[39;49m\u001b[43m,\u001b[49m\u001b[43m \u001b[49m\u001b[38;5;124;43m\"\u001b[39;49m\u001b[38;5;124;43mstrict\u001b[39;49m\u001b[38;5;124;43m\"\u001b[39;49m\u001b[43m)\u001b[49m\u001b[43m,\u001b[49m\n\u001b[1;32m   1888\u001b[0m \u001b[43m    \u001b[49m\u001b[43mstorage_options\u001b[49m\u001b[38;5;241;43m=\u001b[39;49m\u001b[38;5;28;43mself\u001b[39;49m\u001b[38;5;241;43m.\u001b[39;49m\u001b[43moptions\u001b[49m\u001b[38;5;241;43m.\u001b[39;49m\u001b[43mget\u001b[49m\u001b[43m(\u001b[49m\u001b[38;5;124;43m\"\u001b[39;49m\u001b[38;5;124;43mstorage_options\u001b[39;49m\u001b[38;5;124;43m\"\u001b[39;49m\u001b[43m,\u001b[49m\u001b[43m \u001b[49m\u001b[38;5;28;43;01mNone\u001b[39;49;00m\u001b[43m)\u001b[49m\u001b[43m,\u001b[49m\n\u001b[1;32m   1889\u001b[0m \u001b[43m\u001b[49m\u001b[43m)\u001b[49m\n\u001b[1;32m   1890\u001b[0m \u001b[38;5;28;01massert\u001b[39;00m \u001b[38;5;28mself\u001b[39m\u001b[38;5;241m.\u001b[39mhandles \u001b[38;5;129;01mis\u001b[39;00m \u001b[38;5;129;01mnot\u001b[39;00m \u001b[38;5;28;01mNone\u001b[39;00m\n\u001b[1;32m   1891\u001b[0m f \u001b[38;5;241m=\u001b[39m \u001b[38;5;28mself\u001b[39m\u001b[38;5;241m.\u001b[39mhandles\u001b[38;5;241m.\u001b[39mhandle\n",
      "File \u001b[0;32m~/.local/lib/python3.10/site-packages/pandas/io/common.py:873\u001b[0m, in \u001b[0;36mget_handle\u001b[0;34m(path_or_buf, mode, encoding, compression, memory_map, is_text, errors, storage_options)\u001b[0m\n\u001b[1;32m    868\u001b[0m \u001b[38;5;28;01melif\u001b[39;00m \u001b[38;5;28misinstance\u001b[39m(handle, \u001b[38;5;28mstr\u001b[39m):\n\u001b[1;32m    869\u001b[0m     \u001b[38;5;66;03m# Check whether the filename is to be opened in binary mode.\u001b[39;00m\n\u001b[1;32m    870\u001b[0m     \u001b[38;5;66;03m# Binary mode does not support 'encoding' and 'newline'.\u001b[39;00m\n\u001b[1;32m    871\u001b[0m     \u001b[38;5;28;01mif\u001b[39;00m ioargs\u001b[38;5;241m.\u001b[39mencoding \u001b[38;5;129;01mand\u001b[39;00m \u001b[38;5;124m\"\u001b[39m\u001b[38;5;124mb\u001b[39m\u001b[38;5;124m\"\u001b[39m \u001b[38;5;129;01mnot\u001b[39;00m \u001b[38;5;129;01min\u001b[39;00m ioargs\u001b[38;5;241m.\u001b[39mmode:\n\u001b[1;32m    872\u001b[0m         \u001b[38;5;66;03m# Encoding\u001b[39;00m\n\u001b[0;32m--> 873\u001b[0m         handle \u001b[38;5;241m=\u001b[39m \u001b[38;5;28;43mopen\u001b[39;49m\u001b[43m(\u001b[49m\n\u001b[1;32m    874\u001b[0m \u001b[43m            \u001b[49m\u001b[43mhandle\u001b[49m\u001b[43m,\u001b[49m\n\u001b[1;32m    875\u001b[0m \u001b[43m            \u001b[49m\u001b[43mioargs\u001b[49m\u001b[38;5;241;43m.\u001b[39;49m\u001b[43mmode\u001b[49m\u001b[43m,\u001b[49m\n\u001b[1;32m    876\u001b[0m \u001b[43m            \u001b[49m\u001b[43mencoding\u001b[49m\u001b[38;5;241;43m=\u001b[39;49m\u001b[43mioargs\u001b[49m\u001b[38;5;241;43m.\u001b[39;49m\u001b[43mencoding\u001b[49m\u001b[43m,\u001b[49m\n\u001b[1;32m    877\u001b[0m \u001b[43m            \u001b[49m\u001b[43merrors\u001b[49m\u001b[38;5;241;43m=\u001b[39;49m\u001b[43merrors\u001b[49m\u001b[43m,\u001b[49m\n\u001b[1;32m    878\u001b[0m \u001b[43m            \u001b[49m\u001b[43mnewline\u001b[49m\u001b[38;5;241;43m=\u001b[39;49m\u001b[38;5;124;43m\"\u001b[39;49m\u001b[38;5;124;43m\"\u001b[39;49m\u001b[43m,\u001b[49m\n\u001b[1;32m    879\u001b[0m \u001b[43m        \u001b[49m\u001b[43m)\u001b[49m\n\u001b[1;32m    880\u001b[0m     \u001b[38;5;28;01melse\u001b[39;00m:\n\u001b[1;32m    881\u001b[0m         \u001b[38;5;66;03m# Binary mode\u001b[39;00m\n\u001b[1;32m    882\u001b[0m         handle \u001b[38;5;241m=\u001b[39m \u001b[38;5;28mopen\u001b[39m(handle, ioargs\u001b[38;5;241m.\u001b[39mmode)\n",
      "\u001b[0;31mFileNotFoundError\u001b[0m: [Errno 2] No such file or directory: 'flavor_details.csv'"
     ]
    }
   ],
   "source": [
    "# Load flavor details from another CSV file into a DataFrame\n",
    "df_flavor_details = pd.read_csv('flavor_details.csv')\n",
    "\n",
    "# Insert data from the DataFrame into the flavor_details table\n",
    "df_flavor_details.to_sql('flavor_details', connection, if_exists='replace', index=False)\n",
    "\n",
    "print(\"Data from CSV has been inserted into the flavor_details table.\")\n"
   ]
  },
  {
   "cell_type": "code",
   "execution_count": null,
   "id": "0623e8ee-06ba-499d-b5dd-cc3e098ab35f",
   "metadata": {},
   "outputs": [],
   "source": [
    "# Query the sales table to confirm data insertion\n",
    "cursor.execute(\"SELECT * FROM sales\")\n",
    "rows = cursor.fetchall()\n",
    "\n",
    "# Display the data\n",
    "print(\"Sales data:\")\n",
    "for row in rows:\n",
    "    print(row)\n"
   ]
  },
  {
   "cell_type": "code",
   "execution_count": null,
   "id": "f8e5c257-e595-43a0-8488-241695fd3366",
   "metadata": {},
   "outputs": [],
   "source": []
  }
 ],
 "metadata": {
  "kernelspec": {
   "display_name": "Python 3 (ipykernel)",
   "language": "python",
   "name": "python3"
  },
  "language_info": {
   "codemirror_mode": {
    "name": "ipython",
    "version": 3
   },
   "file_extension": ".py",
   "mimetype": "text/x-python",
   "name": "python",
   "nbconvert_exporter": "python",
   "pygments_lexer": "ipython3",
   "version": "3.10.12"
  }
 },
 "nbformat": 4,
 "nbformat_minor": 5
}
